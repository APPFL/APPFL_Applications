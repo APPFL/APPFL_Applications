{
 "cells": [
  {
   "cell_type": "markdown",
   "metadata": {},
   "source": [
    "# 1D-transformer"
   ]
  },
  {
   "cell_type": "code",
   "execution_count": null,
   "metadata": {},
   "outputs": [],
   "source": [
    "import torch\n",
    "import torch.nn as nn\n",
    "import numpy as np\n",
    "import ecg_transformer\n",
    "import ecg_dataset\n",
    "import pandas as pd\n",
    "from torch.utils.data import DataLoader"
   ]
  },
  {
   "cell_type": "code",
   "execution_count": null,
   "metadata": {},
   "outputs": [],
   "source": [
    "device = torch.device('cuda' if torch.cuda.is_available() else 'cpu') # set to gpu if possible"
   ]
  },
  {
   "cell_type": "code",
   "execution_count": null,
   "metadata": {},
   "outputs": [],
   "source": [
    "batch_size = 64 # input batch size for training (default: 64)\n",
    "epochs = 25 # number of epochs to train (default: 10)\n",
    "lr = 0.0001  # learning rate (default: 0.01)\n",
    "emsize = 64 # embedding dimension == d_model\n",
    "dim_feedforward = 256 # the dimension of the feedforward network model in nn.TransformerEncoder\n",
    "nlayers = 4 # the number of nn.TransformerEncoderLayer in nn.TransformerEncoder\n",
    "nhead = 4 # the number of heads in the multiheadattention models\n",
    "n_conv_layers = 2 # number of convolutional layers (before transformer encoder)\n",
    "dropout = 0.25 # the dropout value\n",
    "dropout_other = 0.1 # dropout value for feedforward output layers\n",
    "n_class = 2 # not actually used atm"
   ]
  },
  {
   "cell_type": "code",
   "execution_count": null,
   "metadata": {},
   "outputs": [],
   "source": [
    "model = ecg_transformer.TransformerModel(emsize, nhead, dim_feedforward, nlayers, n_conv_layers, n_class, dropout, dropout_other).to(device)"
   ]
  },
  {
   "cell_type": "code",
   "execution_count": null,
   "metadata": {},
   "outputs": [],
   "source": [
    "model.train(mode=True) # Turn on the train mode"
   ]
  },
  {
   "cell_type": "code",
   "execution_count": null,
   "metadata": {},
   "outputs": [],
   "source": [
    "meta_data = pd.read_parquet('../../data/freeze/BROAD_ml4h_klarqvist___physionet__meta_data__graded_splits__84fe7e5e413d4dc8b6de645ed5f06c5d.pq')\n",
    "meta_data"
   ]
  },
  {
   "cell_type": "code",
   "execution_count": null,
   "metadata": {},
   "outputs": [],
   "source": [
    "meta_data['Age'] = meta_data['Age'].astype(np.float32)\n",
    "meta_data = meta_data[meta_data['n_observations'] >= 5000]"
   ]
  },
  {
   "cell_type": "code",
   "execution_count": null,
   "metadata": {},
   "outputs": [],
   "source": [
    "h5py_path = '../../data/freeze/BROAD_ml4h_klarqvist___physionet__waveforms__409faaa082084ae5aef22838e35dae06__combined.h5'"
   ]
  },
  {
   "cell_type": "code",
   "execution_count": null,
   "metadata": {},
   "outputs": [],
   "source": [
    "meta_data = meta_data[~meta_data.Age.isna()]"
   ]
  },
  {
   "cell_type": "code",
   "execution_count": null,
   "metadata": {},
   "outputs": [],
   "source": [
    "train_data = meta_data[meta_data['is_graded_train'] == True]\n",
    "test_data = meta_data[meta_data['is_graded_test'] == True]\n",
    "validation_data = meta_data[meta_data['is_graded_validation'] == True]\n",
    "\n",
    "train_ds = ecg_dataset.EcgDataset(h5py_path, train_data.index.values, train_data.Age)\n",
    "test_ds = ecg_dataset.EcgDataset(h5py_path, test_data.index.values, test_data.Age)\n",
    "validation_ds = ecg_dataset.EcgDataset(h5py_path, validation_data.index.values, validation_data.Age)"
   ]
  },
  {
   "cell_type": "code",
   "execution_count": null,
   "metadata": {},
   "outputs": [],
   "source": [
    "def train_loop(dataloader, model, loss_fn, optimizer):\n",
    "    size = len(dataloader.dataset)\n",
    "    num_batches = len(dataloader)\n",
    "    train_loss = 0\n",
    "    preds = []\n",
    "    labs = []\n",
    "\n",
    "    for batch, (X, y) in enumerate(dataloader):\n",
    "        # Compute prediction and loss\n",
    "        X = X.to(device)\n",
    "        labs.append(y.flatten().float().numpy())\n",
    "        y = y.flatten().float().to(device).unsqueeze(-1)\n",
    "        pred = model(X)\n",
    "        loss = loss_fn(pred, y)\n",
    "        train_loss += loss.item()\n",
    "        preds.append(pred.cpu().detach().numpy())\n",
    "\n",
    "        # Backpropagation\n",
    "        optimizer.zero_grad()\n",
    "        loss.backward()\n",
    "        optimizer.step()\n",
    "\n",
    "        if batch % 100 == 0:\n",
    "            loss, current = loss.item(), batch * len(X)\n",
    "            print(f\"loss: {loss:>7f}  [{current:>5d}/{size:>5d}]\")\n",
    "    \n",
    "    train_loss /= num_batches\n",
    "    preds = np.squeeze(np.concatenate(preds))\n",
    "    labs = np.concatenate(labs)\n",
    "\n",
    "    print(f\"Train Error: \\nCorrelation: {(np.corrcoef(preds, labs)[0][1]):>0.5f}, Avg loss: {train_loss:>8f} \\n\")\n",
    "\n",
    "def test_loop(dataloader, model, loss_fn):\n",
    "    num_batches = len(dataloader)\n",
    "    test_loss = 0\n",
    "    preds = []\n",
    "    labs = []\n",
    "\n",
    "    with torch.no_grad():\n",
    "        for X, y in dataloader:\n",
    "            X = X.to(device)\n",
    "            labs.append(y.flatten().float().numpy())\n",
    "            y = y.flatten().float().to(device).unsqueeze(-1)\n",
    "            pred = model(X)\n",
    "            test_loss += loss_fn(pred, y).item()\n",
    "            preds.append(pred.cpu().detach().numpy())\n",
    "\n",
    "    test_loss /= num_batches\n",
    "    preds = np.squeeze(np.concatenate(preds))\n",
    "    labs = np.concatenate(labs)\n",
    "    \n",
    "    print(f\"Test Error: \\nCorrelation: {(np.corrcoef(preds, labs)[0][1]):>0.5f}, Avg loss: {test_loss:>8f} \\n\")"
   ]
  },
  {
   "cell_type": "code",
   "execution_count": null,
   "metadata": {},
   "outputs": [],
   "source": [
    "train_dataloader = DataLoader(train_ds, batch_size=batch_size, shuffle=True, num_workers=0, pin_memory=True)\n",
    "test_dataloader  = DataLoader(test_ds, batch_size=batch_size, shuffle=False, num_workers=0, pin_memory=True)\n",
    "val_dataloader   = DataLoader(validation_ds, batch_size=batch_size, shuffle=False, num_workers=0, pin_memory=True)"
   ]
  },
  {
   "cell_type": "code",
   "execution_count": null,
   "metadata": {},
   "outputs": [],
   "source": [
    "loss_fn = nn.MSELoss()\n",
    "optimizer = torch.optim.Adam(model.parameters(), lr=lr)\n",
    "\n",
    "for t in range(epochs):\n",
    "    print(f\"Epoch {t+1}\\n-------------------------------\")\n",
    "    train_loop(train_dataloader, model, loss_fn, optimizer)\n",
    "    test_loop(test_dataloader, model, loss_fn)\n",
    "\n",
    "print(\"Done!\")"
   ]
  },
  {
   "cell_type": "code",
   "execution_count": null,
   "metadata": {},
   "outputs": [],
   "source": [
    "# 62 min 50.4 sec"
   ]
  },
  {
   "cell_type": "code",
   "execution_count": null,
   "metadata": {},
   "outputs": [],
   "source": [
    "def validation_loop(dataloader, model):\n",
    "    preds = []\n",
    "    labs = []\n",
    "    with torch.no_grad():\n",
    "        for X, y in dataloader:\n",
    "            X = X.to(device)\n",
    "            labs.append(y.float().numpy())\n",
    "            y = y.float().to(device).unsqueeze(-1)\n",
    "            pred = model(X)\n",
    "            preds.append(pred.cpu().detach().numpy())\n",
    "            \n",
    "    return preds, labs"
   ]
  },
  {
   "cell_type": "code",
   "execution_count": null,
   "metadata": {},
   "outputs": [],
   "source": [
    "preds, labs = validation_loop(val_dataloader, model)"
   ]
  },
  {
   "cell_type": "code",
   "execution_count": null,
   "metadata": {},
   "outputs": [],
   "source": [
    "pred_df = pd.DataFrame({'predictions': np.squeeze(np.concatenate(preds)), 'labels': np.concatenate(labs)})\n",
    "pred_df"
   ]
  },
  {
   "cell_type": "code",
   "execution_count": null,
   "metadata": {},
   "outputs": [],
   "source": [
    "np.corrcoef(pred_df.predictions, pred_df.labels)[0][1]\n",
    "# 0.7212988866967599"
   ]
  },
  {
   "cell_type": "code",
   "execution_count": null,
   "metadata": {},
   "outputs": [],
   "source": [
    "np.mean(np.abs(pred_df.predictions - pred_df.labels))\n",
    "# 9.410714"
   ]
  },
  {
   "cell_type": "code",
   "execution_count": null,
   "metadata": {},
   "outputs": [],
   "source": [
    "import matplotlib.pyplot as plt"
   ]
  },
  {
   "cell_type": "code",
   "execution_count": null,
   "metadata": {},
   "outputs": [],
   "source": [
    "plt.scatter(pred_df.predictions, pred_df.labels)"
   ]
  }
 ],
 "metadata": {
  "kernelspec": {
   "display_name": "Python 3.7.12 ('base')",
   "language": "python",
   "name": "python3"
  },
  "language_info": {
   "codemirror_mode": {
    "name": "ipython",
    "version": 3
   },
   "file_extension": ".py",
   "mimetype": "text/x-python",
   "name": "python",
   "nbconvert_exporter": "python",
   "pygments_lexer": "ipython3",
   "version": "3.7.12"
  },
  "orig_nbformat": 4,
  "vscode": {
   "interpreter": {
    "hash": "d4d1e4263499bec80672ea0156c357c1ee493ec2b1c70f0acce89fc37c4a6abe"
   }
  }
 },
 "nbformat": 4,
 "nbformat_minor": 2
}
